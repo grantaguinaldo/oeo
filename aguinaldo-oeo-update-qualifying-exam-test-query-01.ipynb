{
 "cells": [
  {
   "cell_type": "code",
   "execution_count": 1,
   "id": "1aa78e00",
   "metadata": {},
   "outputs": [
    {
     "data": {
      "text/html": [
       "<div>\n",
       "<style scoped>\n",
       "    .dataframe tbody tr th:only-of-type {\n",
       "        vertical-align: middle;\n",
       "    }\n",
       "\n",
       "    .dataframe tbody tr th {\n",
       "        vertical-align: top;\n",
       "    }\n",
       "\n",
       "    .dataframe thead th {\n",
       "        text-align: right;\n",
       "    }\n",
       "</style>\n",
       "<table border=\"1\" class=\"dataframe\">\n",
       "  <thead>\n",
       "    <tr style=\"text-align: right;\">\n",
       "      <th></th>\n",
       "      <th>regions</th>\n",
       "      <th>tech</th>\n",
       "      <th>vintage</th>\n",
       "      <th>exist_cap</th>\n",
       "      <th>exist_cap_units</th>\n",
       "      <th>exist_cap_notes</th>\n",
       "    </tr>\n",
       "  </thead>\n",
       "  <tbody>\n",
       "    <tr>\n",
       "      <th>1</th>\n",
       "      <td>CA-NW</td>\n",
       "      <td>I_PRH_INDPR</td>\n",
       "      <td>2019</td>\n",
       "      <td>12743.0</td>\n",
       "      <td>MMTBTU/hr</td>\n",
       "      <td>From GTA Update</td>\n",
       "    </tr>\n",
       "  </tbody>\n",
       "</table>\n",
       "</div>"
      ],
      "text/plain": [
       "  regions         tech  vintage  exist_cap exist_cap_units  exist_cap_notes\n",
       "1   CA-NW  I_PRH_INDPR     2019    12743.0       MMTBTU/hr  From GTA Update"
      ]
     },
     "execution_count": 1,
     "metadata": {},
     "output_type": "execute_result"
    }
   ],
   "source": [
    "import sqlite3\n",
    "import pandas as pd\n",
    "con = sqlite3.connect(\"GTA_US_9R_TS_NZ_trunc_4periods.sqlite\")\n",
    "query = \"select * from ExistingCapacity where regions == 'CA-NW'\"\n",
    "df = pd.read_sql_query(query, con)\n",
    "df[df['tech'] == 'I_PRH_INDPR']"
   ]
  }
 ],
 "metadata": {
  "kernelspec": {
   "display_name": "Python 3 (ipykernel)",
   "language": "python",
   "name": "python3"
  },
  "language_info": {
   "codemirror_mode": {
    "name": "ipython",
    "version": 3
   },
   "file_extension": ".py",
   "mimetype": "text/x-python",
   "name": "python",
   "nbconvert_exporter": "python",
   "pygments_lexer": "ipython3",
   "version": "3.7.3"
  }
 },
 "nbformat": 4,
 "nbformat_minor": 5
}
