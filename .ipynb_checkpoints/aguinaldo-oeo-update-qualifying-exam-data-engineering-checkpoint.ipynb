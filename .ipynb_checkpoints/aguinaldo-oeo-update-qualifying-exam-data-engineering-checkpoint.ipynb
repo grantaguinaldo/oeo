{
 "cells": [
  {
   "cell_type": "code",
   "execution_count": 1,
   "id": "926f0dee",
   "metadata": {},
   "outputs": [],
   "source": [
    "import sqlite3\n",
    "import pandas as pd\n",
    "con = sqlite3.connect(\"GTA_US_9R_TS_NZ_trunc_4periods.sqlite\")\n",
    "c = con.cursor()"
   ]
  },
  {
   "cell_type": "code",
   "execution_count": 2,
   "id": "cb0c3cb0",
   "metadata": {},
   "outputs": [],
   "source": [
    "data = [('CA', 2020, 'ELC_IND', 37826, 'GWH', 'From GTA Update'),\n",
    " ('CA', 2030, 'ELC_IND', 38126, 'GWH', 'From GTA Update'),\n",
    " ('CA', 2040, 'ELC_IND', 34614, 'GWH', 'From GTA Update'),\n",
    " ('CA', 2050, 'ELC_IND', 32541, 'GWH', 'From GTA Update'),\n",
    " ('CA', 2020, 'I_NGA', 3271, 'MMTherms', 'From GTA Update'),\n",
    " ('CA', 2030, 'I_NGA', 3427, 'MMTherms', 'From GTA Update'),\n",
    " ('CA', 2040, 'I_NGA', 3520, 'MMTherms', 'From GTA Update'),\n",
    " ('CA', 2050, 'I_NGA', 3587, 'MMTherms', 'From GTA Update')]\n",
    "\n",
    "for item in data:\n",
    "  c.execute('insert into Demand values (?,?,?,?,?,?)', item)\n",
    "con.commit()"
   ]
  },
  {
   "cell_type": "code",
   "execution_count": 3,
   "id": "c8cc1ffe",
   "metadata": {},
   "outputs": [
    {
     "data": {
      "text/html": [
       "<div>\n",
       "<style scoped>\n",
       "    .dataframe tbody tr th:only-of-type {\n",
       "        vertical-align: middle;\n",
       "    }\n",
       "\n",
       "    .dataframe tbody tr th {\n",
       "        vertical-align: top;\n",
       "    }\n",
       "\n",
       "    .dataframe thead th {\n",
       "        text-align: right;\n",
       "    }\n",
       "</style>\n",
       "<table border=\"1\" class=\"dataframe\">\n",
       "  <thead>\n",
       "    <tr style=\"text-align: right;\">\n",
       "      <th></th>\n",
       "      <th>regions</th>\n",
       "      <th>periods</th>\n",
       "      <th>demand_comm</th>\n",
       "      <th>demand</th>\n",
       "      <th>demand_units</th>\n",
       "      <th>demand_notes</th>\n",
       "    </tr>\n",
       "  </thead>\n",
       "  <tbody>\n",
       "    <tr>\n",
       "      <th>26</th>\n",
       "      <td>CA</td>\n",
       "      <td>2020</td>\n",
       "      <td>I_NGA</td>\n",
       "      <td>3271.0</td>\n",
       "      <td>MMTherms</td>\n",
       "      <td>From GTA Update</td>\n",
       "    </tr>\n",
       "    <tr>\n",
       "      <th>78</th>\n",
       "      <td>CA</td>\n",
       "      <td>2030</td>\n",
       "      <td>I_NGA</td>\n",
       "      <td>3427.0</td>\n",
       "      <td>MMTherms</td>\n",
       "      <td>From GTA Update</td>\n",
       "    </tr>\n",
       "    <tr>\n",
       "      <th>130</th>\n",
       "      <td>CA</td>\n",
       "      <td>2040</td>\n",
       "      <td>I_NGA</td>\n",
       "      <td>3520.0</td>\n",
       "      <td>MMTherms</td>\n",
       "      <td>From GTA Update</td>\n",
       "    </tr>\n",
       "    <tr>\n",
       "      <th>182</th>\n",
       "      <td>CA</td>\n",
       "      <td>2050</td>\n",
       "      <td>I_NGA</td>\n",
       "      <td>3587.0</td>\n",
       "      <td>MMTherms</td>\n",
       "      <td>From GTA Update</td>\n",
       "    </tr>\n",
       "  </tbody>\n",
       "</table>\n",
       "</div>"
      ],
      "text/plain": [
       "    regions  periods demand_comm  demand demand_units     demand_notes\n",
       "26       CA     2020       I_NGA  3271.0     MMTherms  From GTA Update\n",
       "78       CA     2030       I_NGA  3427.0     MMTherms  From GTA Update\n",
       "130      CA     2040       I_NGA  3520.0     MMTherms  From GTA Update\n",
       "182      CA     2050       I_NGA  3587.0     MMTherms  From GTA Update"
      ]
     },
     "execution_count": 3,
     "metadata": {},
     "output_type": "execute_result"
    }
   ],
   "source": [
    "query = \"select * from Demand where regions == 'CA'\"\n",
    "df = pd.read_sql_query(query, con)\n",
    "df[df['demand_comm'] == 'I_NGA']"
   ]
  },
  {
   "cell_type": "code",
   "execution_count": 4,
   "id": "5f97f1e3",
   "metadata": {},
   "outputs": [],
   "source": [
    "data = [('CA-NW', 'I_PRH_INDPR', 2019, 12743, 'MMTBTU/hr', 'From GTA Update')]\n",
    "for item in data:\n",
    "  c.execute('insert into ExistingCapacity values (?,?,?,?,?,?)', item)\n",
    "con.commit()"
   ]
  },
  {
   "cell_type": "code",
   "execution_count": 5,
   "id": "38e44418",
   "metadata": {},
   "outputs": [
    {
     "data": {
      "text/html": [
       "<div>\n",
       "<style scoped>\n",
       "    .dataframe tbody tr th:only-of-type {\n",
       "        vertical-align: middle;\n",
       "    }\n",
       "\n",
       "    .dataframe tbody tr th {\n",
       "        vertical-align: top;\n",
       "    }\n",
       "\n",
       "    .dataframe thead th {\n",
       "        text-align: right;\n",
       "    }\n",
       "</style>\n",
       "<table border=\"1\" class=\"dataframe\">\n",
       "  <thead>\n",
       "    <tr style=\"text-align: right;\">\n",
       "      <th></th>\n",
       "      <th>regions</th>\n",
       "      <th>tech</th>\n",
       "      <th>vintage</th>\n",
       "      <th>exist_cap</th>\n",
       "      <th>exist_cap_units</th>\n",
       "      <th>exist_cap_notes</th>\n",
       "    </tr>\n",
       "  </thead>\n",
       "  <tbody>\n",
       "    <tr>\n",
       "      <th>1</th>\n",
       "      <td>CA-NW</td>\n",
       "      <td>I_PRH_INDPR</td>\n",
       "      <td>2019</td>\n",
       "      <td>12743.0</td>\n",
       "      <td>MMTBTU/hr</td>\n",
       "      <td>From GTA Update</td>\n",
       "    </tr>\n",
       "  </tbody>\n",
       "</table>\n",
       "</div>"
      ],
      "text/plain": [
       "  regions         tech  vintage  exist_cap exist_cap_units  exist_cap_notes\n",
       "1   CA-NW  I_PRH_INDPR     2019    12743.0       MMTBTU/hr  From GTA Update"
      ]
     },
     "execution_count": 5,
     "metadata": {},
     "output_type": "execute_result"
    }
   ],
   "source": [
    "query = \"select * from ExistingCapacity where regions == 'CA-NW'\"\n",
    "df2 = pd.read_sql_query(query, con)\n",
    "df2[df2['tech'] == 'I_PRH_INDPR']"
   ]
  },
  {
   "cell_type": "code",
   "execution_count": 6,
   "id": "d94a3a0a",
   "metadata": {},
   "outputs": [],
   "source": [
    "c.close()\n",
    "con.close()"
   ]
  }
 ],
 "metadata": {
  "kernelspec": {
   "display_name": "Python 3 (ipykernel)",
   "language": "python",
   "name": "python3"
  },
  "language_info": {
   "codemirror_mode": {
    "name": "ipython",
    "version": 3
   },
   "file_extension": ".py",
   "mimetype": "text/x-python",
   "name": "python",
   "nbconvert_exporter": "python",
   "pygments_lexer": "ipython3",
   "version": "3.7.3"
  }
 },
 "nbformat": 4,
 "nbformat_minor": 5
}
