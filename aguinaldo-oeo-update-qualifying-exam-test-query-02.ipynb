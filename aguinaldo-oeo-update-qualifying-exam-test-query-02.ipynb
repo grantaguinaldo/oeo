{
 "cells": [
  {
   "cell_type": "code",
   "execution_count": 1,
   "id": "4b6ab68d",
   "metadata": {},
   "outputs": [
    {
     "data": {
      "text/html": [
       "<div>\n",
       "<style scoped>\n",
       "    .dataframe tbody tr th:only-of-type {\n",
       "        vertical-align: middle;\n",
       "    }\n",
       "\n",
       "    .dataframe tbody tr th {\n",
       "        vertical-align: top;\n",
       "    }\n",
       "\n",
       "    .dataframe thead th {\n",
       "        text-align: right;\n",
       "    }\n",
       "</style>\n",
       "<table border=\"1\" class=\"dataframe\">\n",
       "  <thead>\n",
       "    <tr style=\"text-align: right;\">\n",
       "      <th></th>\n",
       "      <th>regions</th>\n",
       "      <th>periods</th>\n",
       "      <th>demand_comm</th>\n",
       "      <th>demand</th>\n",
       "      <th>demand_units</th>\n",
       "      <th>demand_notes</th>\n",
       "    </tr>\n",
       "  </thead>\n",
       "  <tbody>\n",
       "    <tr>\n",
       "      <th>26</th>\n",
       "      <td>CA</td>\n",
       "      <td>2020</td>\n",
       "      <td>I_NGA</td>\n",
       "      <td>3271.0</td>\n",
       "      <td>MMTherms</td>\n",
       "      <td>From GTA Update</td>\n",
       "    </tr>\n",
       "    <tr>\n",
       "      <th>78</th>\n",
       "      <td>CA</td>\n",
       "      <td>2030</td>\n",
       "      <td>I_NGA</td>\n",
       "      <td>3427.0</td>\n",
       "      <td>MMTherms</td>\n",
       "      <td>From GTA Update</td>\n",
       "    </tr>\n",
       "    <tr>\n",
       "      <th>130</th>\n",
       "      <td>CA</td>\n",
       "      <td>2040</td>\n",
       "      <td>I_NGA</td>\n",
       "      <td>3520.0</td>\n",
       "      <td>MMTherms</td>\n",
       "      <td>From GTA Update</td>\n",
       "    </tr>\n",
       "    <tr>\n",
       "      <th>182</th>\n",
       "      <td>CA</td>\n",
       "      <td>2050</td>\n",
       "      <td>I_NGA</td>\n",
       "      <td>3587.0</td>\n",
       "      <td>MMTherms</td>\n",
       "      <td>From GTA Update</td>\n",
       "    </tr>\n",
       "  </tbody>\n",
       "</table>\n",
       "</div>"
      ],
      "text/plain": [
       "    regions  periods demand_comm  demand demand_units     demand_notes\n",
       "26       CA     2020       I_NGA  3271.0     MMTherms  From GTA Update\n",
       "78       CA     2030       I_NGA  3427.0     MMTherms  From GTA Update\n",
       "130      CA     2040       I_NGA  3520.0     MMTherms  From GTA Update\n",
       "182      CA     2050       I_NGA  3587.0     MMTherms  From GTA Update"
      ]
     },
     "execution_count": 1,
     "metadata": {},
     "output_type": "execute_result"
    }
   ],
   "source": [
    "import sqlite3\n",
    "import pandas as pd\n",
    "con = sqlite3.connect(\"GTA_US_9R_TS_NZ_trunc_4periods.sqlite\")\n",
    "query = \"select * from Demand where regions == 'CA'\"\n",
    "df = pd.read_sql_query(query, con)\n",
    "df[df['demand_comm'] == 'I_NGA']"
   ]
  }
 ],
 "metadata": {
  "kernelspec": {
   "display_name": "Python 3 (ipykernel)",
   "language": "python",
   "name": "python3"
  },
  "language_info": {
   "codemirror_mode": {
    "name": "ipython",
    "version": 3
   },
   "file_extension": ".py",
   "mimetype": "text/x-python",
   "name": "python",
   "nbconvert_exporter": "python",
   "pygments_lexer": "ipython3",
   "version": "3.7.3"
  }
 },
 "nbformat": 4,
 "nbformat_minor": 5
}
